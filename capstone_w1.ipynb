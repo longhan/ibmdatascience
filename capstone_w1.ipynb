### This is the assignment of Week 1
import pandas as pd
import numpy as np
print('Hello Capstone Project Course!')
